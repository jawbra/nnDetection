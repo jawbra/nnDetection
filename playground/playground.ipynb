{
 "cells": [
  {
   "cell_type": "code",
   "execution_count": 6,
   "metadata": {},
   "outputs": [
    {
     "name": "stdout",
     "output_type": "stream",
     "text": [
      "[144.04564  251.26904  210.0401   284.82202   28.047562  39.855   ]\n"
     ]
    }
   ],
   "source": [
    "import pickle\n",
    "import pandas as pd\n",
    "import matplotlib.pyplot as plt\n",
    "import nibabel as nib\n",
    "\n",
    "\n",
    "\n",
    "path = '/home/brandtj/Data/brandtj/nnDetection/models/Task00_roi_main_pathology/RetinaUNetV001_D3V001_3dlr1/fold0/test_predictions/WKAOfNzyFMo$RY2pk8rHxco_boxes.pkl'\n",
    "\n",
    "with open(path, 'rb') as f:\n",
    "    data = pickle.load(f)\n",
    "\n",
    "print(data['pred_boxes'][0])\n",
    "\n"
   ]
  },
  {
   "cell_type": "code",
   "execution_count": 7,
   "metadata": {},
   "outputs": [
    {
     "ename": "AttributeError",
     "evalue": "module 'pydicom' has no attribute 'load'",
     "output_type": "error",
     "traceback": [
      "\u001b[0;31m---------------------------------------------------------------------------\u001b[0m",
      "\u001b[0;31mAttributeError\u001b[0m                            Traceback (most recent call last)",
      "Cell \u001b[0;32mIn[7], line 1\u001b[0m\n\u001b[0;32m----> 1\u001b[0m image \u001b[39m=\u001b[39m pydicom\u001b[39m.\u001b[39;49mload(\u001b[39m'\u001b[39m\u001b[39m/home/brandtj/Data/brandtj/appendix_data/Task00_roi_main_pathology/raw_splitted/imagesTs/WKAOfNzyFMo$RY2pk8rHxco_0000.nii.gz\u001b[39m\u001b[39m'\u001b[39m)\n",
      "\u001b[0;31mAttributeError\u001b[0m: module 'pydicom' has no attribute 'load'"
     ]
    }
   ],
   "source": [
    "image = pydicom.load('/home/brandtj/Data/brandtj/appendix_data/Task00_roi_main_pathology/raw_splitted/imagesTs/WKAOfNzyFMo$RY2pk8rHxco_0000.nii.gz')"
   ]
  },
  {
   "cell_type": "code",
   "execution_count": null,
   "metadata": {},
   "outputs": [],
   "source": []
  }
 ],
 "metadata": {
  "kernelspec": {
   "display_name": "nndetection",
   "language": "python",
   "name": "python3"
  },
  "language_info": {
   "codemirror_mode": {
    "name": "ipython",
    "version": 3
   },
   "file_extension": ".py",
   "mimetype": "text/x-python",
   "name": "python",
   "nbconvert_exporter": "python",
   "pygments_lexer": "ipython3",
   "version": "3.9.16"
  },
  "orig_nbformat": 4
 },
 "nbformat": 4,
 "nbformat_minor": 2
}
